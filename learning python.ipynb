{
 "cells": [
  {
   "cell_type": "code",
   "execution_count": 1,
   "id": "f5ceb96f",
   "metadata": {},
   "outputs": [],
   "source": [
    "v1 = 'ram'\n",
    "v2 = 'ear'"
   ]
  },
  {
   "cell_type": "code",
   "execution_count": 2,
   "id": "7846e99f",
   "metadata": {},
   "outputs": [
    {
     "name": "stdout",
     "output_type": "stream",
     "text": [
      "ram\n"
     ]
    }
   ],
   "source": [
    "print(v1)"
   ]
  },
  {
   "cell_type": "code",
   "execution_count": 9,
   "id": "77c5cdff",
   "metadata": {},
   "outputs": [],
   "source": [
    "v2 = v1"
   ]
  },
  {
   "cell_type": "code",
   "execution_count": 11,
   "id": "7d759db3",
   "metadata": {},
   "outputs": [
    {
     "name": "stdout",
     "output_type": "stream",
     "text": [
      "temp\n"
     ]
    }
   ],
   "source": [
    "print(v2)"
   ]
  },
  {
   "cell_type": "code",
   "execution_count": 25,
   "id": "1b2f5704",
   "metadata": {},
   "outputs": [
    {
     "name": "stdout",
     "output_type": "stream",
     "text": [
      "u r not eligible\n"
     ]
    }
   ],
   "source": [
    "weight = 89\n",
    "height = 175\n",
    "bmi = height/weight\n",
    "if a > 18:\n",
    "    print('u r eligible for marriage')\n",
    "    print('u will get a driving license')\n",
    "else:\n",
    "    print ('u r not eligible')\n"
   ]
  },
  {
   "cell_type": "code",
   "execution_count": 29,
   "id": "baa37b68",
   "metadata": {},
   "outputs": [
    {
     "name": "stdout",
     "output_type": "stream",
     "text": [
      "u r eligible\n"
     ]
    }
   ],
   "source": [
    "h = 175 \n",
    "w = 75 \n",
    "if h > 160  and w > 70 :\n",
    "    print('u r eligible')\n",
    "else:\n",
    "    print('u r not eligible')"
   ]
  },
  {
   "cell_type": "code",
   "execution_count": 36,
   "id": "b41008e8",
   "metadata": {},
   "outputs": [
    {
     "name": "stdout",
     "output_type": "stream",
     "text": [
      "u r wrong\n"
     ]
    }
   ],
   "source": [
    "e = 88\n",
    "f = 88\n",
    "if e > f:\n",
    "    print('u r right')\n",
    "elif e == f:\n",
    "    print('u r wrong')\n",
    "else:\n",
    "    print('i m kkjjhh')"
   ]
  },
  {
   "cell_type": "code",
   "execution_count": 38,
   "id": "59ede82e",
   "metadata": {},
   "outputs": [
    {
     "name": "stdout",
     "output_type": "stream",
     "text": [
      "bmi: \n",
      "32.0\n",
      "swayam\n",
      "is overweight\n"
     ]
    }
   ],
   "source": [
    "name = 'swayam'\n",
    "height_m = 2.5\n",
    "weight_kg = 200\n",
    "\n",
    "bmi=weight_kg / (height_m ** 2)\n",
    "print('bmi: ')\n",
    "print(bmi)\n",
    "if bmi > 30:\n",
    "    print(name)\n",
    "    print('is overweight')\n",
    "else:\n",
    "    print(name)\n",
    "    print('is not overweight')"
   ]
  },
  {
   "cell_type": "code",
   "execution_count": 39,
   "id": "84a070f1",
   "metadata": {},
   "outputs": [
    {
     "data": {
      "text/plain": [
       "32.0"
      ]
     },
     "execution_count": 39,
     "metadata": {},
     "output_type": "execute_result"
    }
   ],
   "source": [
    "200/(2.5*2.5)"
   ]
  },
  {
   "cell_type": "code",
   "execution_count": 41,
   "id": "eba54f42",
   "metadata": {},
   "outputs": [
    {
     "name": "stdout",
     "output_type": "stream",
     "text": [
      "u r in\n"
     ]
    }
   ],
   "source": [
    "a = 'pn'\n",
    "d = ('pn','dn','ad','er','dr','ew',)\n",
    "if a in d:\n",
    "    print('u r in')\n",
    "else:\n",
    "    print('not provided')\n",
    "    "
   ]
  },
  {
   "cell_type": "code",
   "execution_count": 44,
   "id": "41d43cf6",
   "metadata": {},
   "outputs": [
    {
     "name": "stdout",
     "output_type": "stream",
     "text": [
      "1964.2857142857142\n"
     ]
    }
   ],
   "source": [
    "r = 25\n",
    "a=22/7*(r**2)\n",
    "print(a)"
   ]
  },
  {
   "cell_type": "code",
   "execution_count": 51,
   "id": "b272d274",
   "metadata": {},
   "outputs": [
    {
     "name": "stdout",
     "output_type": "stream",
     "text": [
      "not a tri\n"
     ]
    }
   ],
   "source": [
    "triangle = 'hab'\n",
    "h = 5\n",
    "a = 3\n",
    "b = 3\n",
    "h**2==a**2 + b*b\n",
    "if h**2==a**2 + b*b: \n",
    "    print('tringle hab is right angled tri')\n",
    "else:\n",
    "    print('not a tri')\n"
   ]
  },
  {
   "cell_type": "code",
   "execution_count": 55,
   "id": "26dbb73a",
   "metadata": {},
   "outputs": [
    {
     "name": "stdout",
     "output_type": "stream",
     "text": [
      "not a equi tri\n"
     ]
    }
   ],
   "source": [
    "name = 'tri abc'\n",
    "a = 12\n",
    "b = 10\n",
    "c = 10\n",
    "if a == b == c:\n",
    "    print(name)\n",
    "    print('is a equilateral tri')\n",
    "else:\n",
    "    print('not a equi tri')\n",
    "    "
   ]
  },
  {
   "cell_type": "code",
   "execution_count": 69,
   "id": "52111341",
   "metadata": {},
   "outputs": [
    {
     "name": "stdout",
     "output_type": "stream",
     "text": [
      "it is a vowel\n"
     ]
    }
   ],
   "source": [
    "l = 'i'\n",
    "a = ('a','e','i','o','u',)\n",
    "b = ('A','E','I','O','U',)\n",
    "if l in a and b:\n",
    "    print('it is a vowel')\n",
    "else:\n",
    "    print('it is a consonent')\n",
    "    "
   ]
  },
  {
   "cell_type": "code",
   "execution_count": null,
   "id": "63d8588f",
   "metadata": {},
   "outputs": [],
   "source": [
    "a = 49\n",
    "d=a/7\n",
    "r=0"
   ]
  },
  {
   "cell_type": "code",
   "execution_count": 73,
   "id": "d40dcdf8",
   "metadata": {},
   "outputs": [
    {
     "name": "stdout",
     "output_type": "stream",
     "text": [
      "7,14,21,28,35,42,49,56,63,70,77,84,91,98,105,112,119,126,133,140,147,154,161,168,175,182,189,196,203,210,217,224,231,238,245,252,259,266,273,280,287,294,301,308,315,322,329,336,343,350,357,364,371,378,385,392,399,406,413,420,427,434,441,448,455,462,469,476,483,490,497,504,511,518,525,532,539,546,553,560,567,574,581,588,595,602,609,616,623,630,637,644,651,658,665,672,679,686,693,700,707,714,721,728,735,742,749,756,763,770,777,784,791,798,805,812,819,826,833,840,847,854,861,868,875,882,889,896,903,910,917,924,931,938,945,952,959,966,973,980,987,994\n"
     ]
    }
   ],
   "source": [
    "n1=[]\n",
    "for x in range(1, 1000):\n",
    "    if (x%7==0):\n",
    "        n1.append(str(x))\n",
    "print(','.join(n1))"
   ]
  },
  {
   "cell_type": "code",
   "execution_count": 89,
   "id": "04825d48",
   "metadata": {},
   "outputs": [
    {
     "name": "stdout",
     "output_type": "stream",
     "text": [
      "1,6,11,16,21,26,31,36,41,46,1,6,11,16,21,26,31,36,41,46,1,6,11,16,21,26,31,36,41,46,2,7,12,17,22,27,32,37,42,47\n"
     ]
    }
   ],
   "source": [
    "n=[]\n",
    "for v in range(1, 50):\n",
    "    if (v%5==2):\n",
    "        n2.append(str(v))\n",
    "print(\",\".join(n2))"
   ]
  },
  {
   "cell_type": "code",
   "execution_count": 90,
   "id": "da4e83dc",
   "metadata": {},
   "outputs": [
    {
     "name": "stdout",
     "output_type": "stream",
     "text": [
      "1,6,11,16,21,26,31,36,41,46,1,6,11,16,21,26,31,36,41,46,1,6,11,16,21,26,31,36,41,46,2,7,12,17,22,27,32,37,42,47,2,7,12,17,22,27,32,37,42,47\n"
     ]
    }
   ],
   "source": [
    "n=[2]\n",
    "for v in range(1, 50):\n",
    "    if (v%5==2):\n",
    "        n2.append(str(v))\n",
    "print(\",\".join(n2))"
   ]
  },
  {
   "cell_type": "code",
   "execution_count": 91,
   "id": "7f0f0339",
   "metadata": {},
   "outputs": [
    {
     "name": "stdout",
     "output_type": "stream",
     "text": [
      "1,6,11,16,21,26,31,36,41,46,1,6,11,16,21,26,31,36,41,46,1,6,11,16,21,26,31,36,41,46,2,7,12,17,22,27,32,37,42,47,2,7,12,17,22,27,32,37,42,47,2,7\n"
     ]
    }
   ],
   "source": [
    "n=[2]\n",
    "for v in range(1, 10):\n",
    "    if (v%5==2):\n",
    "        n2.append(str(v))\n",
    "print(\",\".join(n2))"
   ]
  },
  {
   "cell_type": "code",
   "execution_count": null,
   "id": "bde5e9bf",
   "metadata": {},
   "outputs": [],
   "source": []
  },
  {
   "cell_type": "code",
   "execution_count": null,
   "id": "53584d6d",
   "metadata": {},
   "outputs": [],
   "source": []
  },
  {
   "cell_type": "code",
   "execution_count": 78,
   "id": "eb9a67e8",
   "metadata": {},
   "outputs": [
    {
     "name": "stdout",
     "output_type": "stream",
     "text": [
      "bmi: \n",
      "16.3265306122449\n",
      "swara\n",
      "is not overweight\n"
     ]
    }
   ],
   "source": [
    "name = 'swara'\n",
    "height_m = 3.5\n",
    "weight_kg = 200\n",
    "\n",
    "bmi=weight_kg / (height_m ** 2)\n",
    "print('bmi: ')\n",
    "print(bmi)\n",
    "if bmi > 30:\n",
    "    print(name)\n",
    "    print('is overweight')\n",
    "else:\n",
    "    print(name)\n",
    "    print('is not overweight')"
   ]
  },
  {
   "cell_type": "code",
   "execution_count": null,
   "id": "42ba26f0",
   "metadata": {},
   "outputs": [],
   "source": []
  },
  {
   "cell_type": "code",
   "execution_count": 88,
   "id": "4e135a2e",
   "metadata": {},
   "outputs": [
    {
     "name": "stdout",
     "output_type": "stream",
     "text": [
      "it is true gold\n"
     ]
    }
   ],
   "source": [
    "c = 25\n",
    "d = 'looks yello'\n",
    "if c > 24 and d == 'looks yello' :\n",
    "    print('it is true gold')\n",
    "else:\n",
    "    print('it is fake gold')\n"
   ]
  },
  {
   "cell_type": "code",
   "execution_count": 9,
   "id": "58986f9f",
   "metadata": {},
   "outputs": [
    {
     "name": "stdout",
     "output_type": "stream",
     "text": [
      "bmi: \n",
      "14.4\n",
      "swayam\n"
     ]
    },
    {
     "ename": "NameError",
     "evalue": "name 'Print' is not defined",
     "output_type": "error",
     "traceback": [
      "\u001b[1;31m---------------------------------------------------------------------------\u001b[0m",
      "\u001b[1;31mNameError\u001b[0m                                 Traceback (most recent call last)",
      "\u001b[1;32m~\\AppData\\Local\\Temp/ipykernel_10396/578755141.py\u001b[0m in \u001b[0;36m<module>\u001b[1;34m\u001b[0m\n\u001b[0;32m     11\u001b[0m \u001b[1;32melif\u001b[0m \u001b[0mbmi\u001b[0m\u001b[1;33m<\u001b[0m\u001b[1;36m18\u001b[0m\u001b[1;33m:\u001b[0m\u001b[1;33m\u001b[0m\u001b[1;33m\u001b[0m\u001b[0m\n\u001b[0;32m     12\u001b[0m     \u001b[0mprint\u001b[0m\u001b[1;33m(\u001b[0m\u001b[0mname\u001b[0m\u001b[1;33m)\u001b[0m\u001b[1;33m\u001b[0m\u001b[1;33m\u001b[0m\u001b[0m\n\u001b[1;32m---> 13\u001b[1;33m     \u001b[0mPrint\u001b[0m\u001b[1;33m(\u001b[0m\u001b[1;34m'is thin'\u001b[0m\u001b[1;33m)\u001b[0m\u001b[1;33m\u001b[0m\u001b[1;33m\u001b[0m\u001b[0m\n\u001b[0m\u001b[0;32m     14\u001b[0m \u001b[1;33m\u001b[0m\u001b[0m\n\u001b[0;32m     15\u001b[0m \u001b[1;32melse\u001b[0m\u001b[1;33m:\u001b[0m\u001b[1;33m\u001b[0m\u001b[1;33m\u001b[0m\u001b[0m\n",
      "\u001b[1;31mNameError\u001b[0m: name 'Print' is not defined"
     ]
    }
   ],
   "source": [
    "name = 'swayam'\n",
    "height_m = 2.5\n",
    "weight_kg = 90\n",
    "bmi=weight_kg/(height_m**2)\n",
    "\n",
    "print('bmi: ')\n",
    "print(bmi)\n",
    "if bmi>25:\n",
    "    print(name)\n",
    "    print('is overweight')\n",
    "elif bmi<18:\n",
    "    print(name)\n",
    "    Print('is thin')\n",
    "\n",
    "else:\n",
    "    print(name)\n",
    "    print('is healthy')\n"
   ]
  },
  {
   "cell_type": "code",
   "execution_count": 31,
   "id": "ecb3dc64",
   "metadata": {},
   "outputs": [
    {
     "name": "stdout",
     "output_type": "stream",
     "text": [
      "bmi: \n",
      "17.0\n",
      "tarun\n",
      "is thin\n"
     ]
    }
   ],
   "source": [
    "name = 'tarun'\n",
    "height_m = 1\n",
    "weight_kg = 17\n",
    "bmi=weight_kg/(height_m**2)\n",
    "\n",
    "print('bmi: ')\n",
    "print(bmi)\n",
    "if bmi>25:\n",
    "    print(name)\n",
    "    print('is overweight')\n",
    "elif bmi in range(18, 25):\n",
    "    print(name)\n",
    "    print('is healthy')\n",
    "\n",
    "else:\n",
    "    print(name)\n",
    "    print('is thin')"
   ]
  },
  {
   "cell_type": "code",
   "execution_count": 33,
   "id": "70a665cc",
   "metadata": {},
   "outputs": [],
   "source": [
    "def function112():\n",
    "    print(\"nsknsv\")\n",
    "    print('jdsis')\n",
    "    print('jdwifn')"
   ]
  },
  {
   "cell_type": "code",
   "execution_count": 34,
   "id": "c39f452d",
   "metadata": {},
   "outputs": [
    {
     "name": "stdout",
     "output_type": "stream",
     "text": [
      "nsknsv\n",
      "jdsis\n",
      "jdwifn\n"
     ]
    }
   ],
   "source": [
    "function112()"
   ]
  },
  {
   "cell_type": "code",
   "execution_count": 35,
   "id": "4ff77193",
   "metadata": {},
   "outputs": [
    {
     "name": "stdout",
     "output_type": "stream",
     "text": [
      "nsknsv\n",
      "jdsis\n",
      "jdwifn\n",
      "nsknsv\n",
      "jdsis\n",
      "jdwifn\n"
     ]
    }
   ],
   "source": [
    "function112()\n",
    "function112()"
   ]
  },
  {
   "cell_type": "code",
   "execution_count": 36,
   "id": "29b3c7fb",
   "metadata": {},
   "outputs": [],
   "source": [
    "def fun2(x):\n",
    "    return 2*x\n"
   ]
  },
  {
   "cell_type": "code",
   "execution_count": 37,
   "id": "e1e3e8cc",
   "metadata": {},
   "outputs": [],
   "source": [
    "a = fun2(10)"
   ]
  },
  {
   "cell_type": "code",
   "execution_count": 38,
   "id": "f0082796",
   "metadata": {},
   "outputs": [
    {
     "name": "stdout",
     "output_type": "stream",
     "text": [
      "20\n"
     ]
    }
   ],
   "source": [
    "print(a)"
   ]
  },
  {
   "cell_type": "code",
   "execution_count": 45,
   "id": "f2824aad",
   "metadata": {},
   "outputs": [],
   "source": [
    "def funct4(y):\n",
    "    return 100/y"
   ]
  },
  {
   "cell_type": "code",
   "execution_count": 46,
   "id": "2f3c225b",
   "metadata": {},
   "outputs": [],
   "source": [
    "w = funct4(50)"
   ]
  },
  {
   "cell_type": "code",
   "execution_count": 47,
   "id": "46bf78e0",
   "metadata": {},
   "outputs": [
    {
     "name": "stdout",
     "output_type": "stream",
     "text": [
      "2.0\n"
     ]
    }
   ],
   "source": [
    "print(w)"
   ]
  },
  {
   "cell_type": "code",
   "execution_count": 48,
   "id": "c158b54b",
   "metadata": {},
   "outputs": [
    {
     "ename": "TypeError",
     "evalue": "funct4() missing 1 required positional argument: 'y'",
     "output_type": "error",
     "traceback": [
      "\u001b[1;31m---------------------------------------------------------------------------\u001b[0m",
      "\u001b[1;31mTypeError\u001b[0m                                 Traceback (most recent call last)",
      "\u001b[1;32m~\\AppData\\Local\\Temp/ipykernel_10396/1162275541.py\u001b[0m in \u001b[0;36m<module>\u001b[1;34m\u001b[0m\n\u001b[1;32m----> 1\u001b[1;33m \u001b[0md\u001b[0m \u001b[1;33m=\u001b[0m \u001b[0mfunct4\u001b[0m\u001b[1;33m(\u001b[0m\u001b[1;33m)\u001b[0m\u001b[1;33m\u001b[0m\u001b[1;33m\u001b[0m\u001b[0m\n\u001b[0m",
      "\u001b[1;31mTypeError\u001b[0m: funct4() missing 1 required positional argument: 'y'"
     ]
    }
   ],
   "source": [
    "d = funct4()"
   ]
  },
  {
   "cell_type": "code",
   "execution_count": 51,
   "id": "01a846ff",
   "metadata": {},
   "outputs": [],
   "source": [
    "def fun(x, y):\n",
    "    return(3*x+4*y)\n",
    "    "
   ]
  },
  {
   "cell_type": "code",
   "execution_count": 52,
   "id": "9e9d198a",
   "metadata": {},
   "outputs": [],
   "source": [
    "q = fun(4, 5)"
   ]
  },
  {
   "cell_type": "code",
   "execution_count": 53,
   "id": "8ee91953",
   "metadata": {},
   "outputs": [
    {
     "name": "stdout",
     "output_type": "stream",
     "text": [
      "32\n"
     ]
    }
   ],
   "source": [
    "print(q)"
   ]
  },
  {
   "cell_type": "code",
   "execution_count": 74,
   "id": "7a2a78cf",
   "metadata": {},
   "outputs": [
    {
     "name": "stdout",
     "output_type": "stream",
     "text": [
      "result:  kgc\n"
     ]
    }
   ],
   "source": [
    "my_string = 'abcdefghijk'\n",
    "print('result: ',my_string[: :-4])"
   ]
  },
  {
   "cell_type": "code",
   "execution_count": 79,
   "id": "4f503290",
   "metadata": {},
   "outputs": [
    {
     "data": {
      "text/plain": [
       "'sfhko'"
      ]
     },
     "execution_count": 79,
     "metadata": {},
     "output_type": "execute_result"
    }
   ],
   "source": [
    "a = 'sdfghjkloi'\n",
    "slice_i = slice(0,9,2)\n",
    "a[slice_i]"
   ]
  },
  {
   "cell_type": "code",
   "execution_count": 86,
   "id": "7f46dcf2",
   "metadata": {},
   "outputs": [
    {
     "name": "stdout",
     "output_type": "stream",
     "text": [
      "hello\n",
      "hello\n",
      "hello\n",
      "hello\n"
     ]
    }
   ],
   "source": [
    "for x in [1,5,5,88]:\n",
    "    print('hello')"
   ]
  },
  {
   "cell_type": "code",
   "execution_count": 88,
   "id": "5aff784d",
   "metadata": {},
   "outputs": [
    {
     "data": {
      "text/plain": [
       "9"
      ]
     },
     "execution_count": 88,
     "metadata": {},
     "output_type": "execute_result"
    }
   ],
   "source": [
    "len('123456789')"
   ]
  },
  {
   "cell_type": "code",
   "execution_count": 115,
   "id": "67013d19",
   "metadata": {},
   "outputs": [
    {
     "name": "stdout",
     "output_type": "stream",
     "text": [
      "1\n",
      "2\n",
      "3\n",
      "4\n",
      "5\n",
      "6\n",
      "7\n",
      "8\n",
      "9\n",
      "10\n",
      "11\n",
      "12\n",
      "13\n"
     ]
    }
   ],
   "source": [
    "result = 0\n",
    "for i in 'i am the king':\n",
    "    result = result + 1\n",
    "    print(result)"
   ]
  },
  {
   "cell_type": "code",
   "execution_count": 114,
   "id": "345eb34b",
   "metadata": {},
   "outputs": [
    {
     "name": "stdout",
     "output_type": "stream",
     "text": [
      "10\n",
      "9\n",
      "8\n",
      "7\n",
      "6\n",
      "5\n",
      "4\n",
      "3\n",
      "2\n"
     ]
    }
   ],
   "source": [
    "\n",
    "for member in range(10,1,-1):\n",
    "    print(member)"
   ]
  },
  {
   "cell_type": "code",
   "execution_count": 116,
   "id": "cef3fde7",
   "metadata": {},
   "outputs": [
    {
     "name": "stdout",
     "output_type": "stream",
     "text": [
      "Help on built-in function print in module builtins:\n",
      "\n",
      "print(...)\n",
      "    print(value, ..., sep=' ', end='\\n', file=sys.stdout, flush=False)\n",
      "    \n",
      "    Prints the values to a stream, or to sys.stdout by default.\n",
      "    Optional keyword arguments:\n",
      "    file:  a file-like object (stream); defaults to the current sys.stdout.\n",
      "    sep:   string inserted between values, default a space.\n",
      "    end:   string appended after the last value, default a newline.\n",
      "    flush: whether to forcibly flush the stream.\n",
      "\n"
     ]
    }
   ],
   "source": [
    "help(print)"
   ]
  },
  {
   "cell_type": "code",
   "execution_count": 117,
   "id": "f9b1c879",
   "metadata": {},
   "outputs": [
    {
     "name": "stdout",
     "output_type": "stream",
     "text": [
      "Help on _Helper in module _sitebuiltins object:\n",
      "\n",
      "class _Helper(builtins.object)\n",
      " |  Define the builtin 'help'.\n",
      " |  \n",
      " |  This is a wrapper around pydoc.help that provides a helpful message\n",
      " |  when 'help' is typed at the Python interactive prompt.\n",
      " |  \n",
      " |  Calling help() at the Python prompt starts an interactive help session.\n",
      " |  Calling help(thing) prints help for the python object 'thing'.\n",
      " |  \n",
      " |  Methods defined here:\n",
      " |  \n",
      " |  __call__(self, *args, **kwds)\n",
      " |      Call self as a function.\n",
      " |  \n",
      " |  __repr__(self)\n",
      " |      Return repr(self).\n",
      " |  \n",
      " |  ----------------------------------------------------------------------\n",
      " |  Data descriptors defined here:\n",
      " |  \n",
      " |  __dict__\n",
      " |      dictionary for instance variables (if defined)\n",
      " |  \n",
      " |  __weakref__\n",
      " |      list of weak references to the object (if defined)\n",
      "\n"
     ]
    }
   ],
   "source": [
    "help(help)"
   ]
  },
  {
   "cell_type": "code",
   "execution_count": 118,
   "id": "aff495c5",
   "metadata": {},
   "outputs": [
    {
     "name": "stdout",
     "output_type": "stream",
     "text": [
      "Help on class range in module builtins:\n",
      "\n",
      "class range(object)\n",
      " |  range(stop) -> range object\n",
      " |  range(start, stop[, step]) -> range object\n",
      " |  \n",
      " |  Return an object that produces a sequence of integers from start (inclusive)\n",
      " |  to stop (exclusive) by step.  range(i, j) produces i, i+1, i+2, ..., j-1.\n",
      " |  start defaults to 0, and stop is omitted!  range(4) produces 0, 1, 2, 3.\n",
      " |  These are exactly the valid indices for a list of 4 elements.\n",
      " |  When step is given, it specifies the increment (or decrement).\n",
      " |  \n",
      " |  Methods defined here:\n",
      " |  \n",
      " |  __bool__(self, /)\n",
      " |      self != 0\n",
      " |  \n",
      " |  __contains__(self, key, /)\n",
      " |      Return key in self.\n",
      " |  \n",
      " |  __eq__(self, value, /)\n",
      " |      Return self==value.\n",
      " |  \n",
      " |  __ge__(self, value, /)\n",
      " |      Return self>=value.\n",
      " |  \n",
      " |  __getattribute__(self, name, /)\n",
      " |      Return getattr(self, name).\n",
      " |  \n",
      " |  __getitem__(self, key, /)\n",
      " |      Return self[key].\n",
      " |  \n",
      " |  __gt__(self, value, /)\n",
      " |      Return self>value.\n",
      " |  \n",
      " |  __hash__(self, /)\n",
      " |      Return hash(self).\n",
      " |  \n",
      " |  __iter__(self, /)\n",
      " |      Implement iter(self).\n",
      " |  \n",
      " |  __le__(self, value, /)\n",
      " |      Return self<=value.\n",
      " |  \n",
      " |  __len__(self, /)\n",
      " |      Return len(self).\n",
      " |  \n",
      " |  __lt__(self, value, /)\n",
      " |      Return self<value.\n",
      " |  \n",
      " |  __ne__(self, value, /)\n",
      " |      Return self!=value.\n",
      " |  \n",
      " |  __reduce__(...)\n",
      " |      Helper for pickle.\n",
      " |  \n",
      " |  __repr__(self, /)\n",
      " |      Return repr(self).\n",
      " |  \n",
      " |  __reversed__(...)\n",
      " |      Return a reverse iterator.\n",
      " |  \n",
      " |  count(...)\n",
      " |      rangeobject.count(value) -> integer -- return number of occurrences of value\n",
      " |  \n",
      " |  index(...)\n",
      " |      rangeobject.index(value) -> integer -- return index of value.\n",
      " |      Raise ValueError if the value is not present.\n",
      " |  \n",
      " |  ----------------------------------------------------------------------\n",
      " |  Static methods defined here:\n",
      " |  \n",
      " |  __new__(*args, **kwargs) from builtins.type\n",
      " |      Create and return a new object.  See help(type) for accurate signature.\n",
      " |  \n",
      " |  ----------------------------------------------------------------------\n",
      " |  Data descriptors defined here:\n",
      " |  \n",
      " |  start\n",
      " |  \n",
      " |  step\n",
      " |  \n",
      " |  stop\n",
      "\n"
     ]
    }
   ],
   "source": [
    "help(range)"
   ]
  },
  {
   "cell_type": "code",
   "execution_count": null,
   "id": "fe7cb379",
   "metadata": {},
   "outputs": [],
   "source": []
  },
  {
   "cell_type": "code",
   "execution_count": null,
   "id": "3048e73d",
   "metadata": {},
   "outputs": [],
   "source": []
  }
 ],
 "metadata": {
  "kernelspec": {
   "display_name": "Python 3 (ipykernel)",
   "language": "python",
   "name": "python3"
  },
  "language_info": {
   "codemirror_mode": {
    "name": "ipython",
    "version": 3
   },
   "file_extension": ".py",
   "mimetype": "text/x-python",
   "name": "python",
   "nbconvert_exporter": "python",
   "pygments_lexer": "ipython3",
   "version": "3.10.0"
  }
 },
 "nbformat": 4,
 "nbformat_minor": 5
}

{
 "cells": [
  {
   "cell_type": "code",
   "execution_count": 13,
   "id": "f5515b7c",
   "metadata": {},
   "outputs": [],
   "source": [
    "#for member in range(1,2):\n",
    "   # print('inside range loop')\n",
    "    #for s in 'st':\n",
    "     #   print('inside str loop')\n",
    "      #  for l in [1,]:\n",
    "       #     print('inside list loop')"
   ]
  },
  {
   "cell_type": "code",
   "execution_count": 12,
   "id": "f9aed6a5",
   "metadata": {},
   "outputs": [
    {
     "name": "stdout",
     "output_type": "stream",
     "text": [
      "xxx\n",
      "xxx\n",
      "xxx\n",
      "xxx\n",
      "xxx\n",
      "xxx\n",
      "xxx\n"
     ]
    }
   ],
   "source": [
    "for s in [1,1,1,1,1,1,1]:\n",
    "    print('xxx')"
   ]
  },
  {
   "cell_type": "code",
   "execution_count": 17,
   "id": "fc94437b",
   "metadata": {},
   "outputs": [
    {
     "name": "stdout",
     "output_type": "stream",
     "text": [
      "aaa\n"
     ]
    }
   ],
   "source": [
    "print('a'*3)"
   ]
  },
  {
   "cell_type": "code",
   "execution_count": 35,
   "id": "c120f5a0",
   "metadata": {},
   "outputs": [
    {
     "name": "stdout",
     "output_type": "stream",
     "text": [
      "@@@@@@@\n",
      "@@@@@@\n",
      "@@@@@\n",
      "@@@@\n",
      "@@@\n",
      "@@\n"
     ]
    }
   ],
   "source": [
    "for x in   range(7,1,-1):\n",
    "    print('@'*x)"
   ]
  },
  {
   "cell_type": "code",
   "execution_count": 57,
   "id": "00bc261b",
   "metadata": {},
   "outputs": [
    {
     "name": "stdout",
     "output_type": "stream",
     "text": [
      "@  \n",
      "@  @  \n",
      "@  @  @  \n",
      "@  @  @  @  \n",
      "@  @  @  @  @  \n",
      "@  @  @  @  @  @  \n",
      "@  @  @  @  @  \n",
      "@  @  @  @  \n",
      "@  @  @  \n",
      "@  @  \n",
      "@  \n"
     ]
    }
   ],
   "source": [
    "for x in range(1,6):\n",
    "    print('@  '*x)\n",
    "for x in range(6,0,-1):\n",
    "    print('@  '*x)\n",
    "\n",
    "    "
   ]
  },
  {
   "cell_type": "code",
   "execution_count": 80,
   "id": "f2050af0",
   "metadata": {},
   "outputs": [
    {
     "name": "stdout",
     "output_type": "stream",
     "text": [
      "1 \n",
      "1 2 \n",
      "1 2 3 \n",
      "1 2 3 4 \n",
      "1 2 3 4 5 \n",
      "1 2 3 4 \n",
      "1 2 3 \n",
      "1 2 \n",
      "1 \n"
     ]
    }
   ],
   "source": [
    "for i in range(1, 5):\n",
    "    for j in range(1,i+1):\n",
    "        print(j, end=' ')\n",
    "    print()\n",
    "for i in range(5,0,-1):\n",
    "    for j in range(1, i+1):\n",
    "        print(j, end=' ')\n",
    "    print()"
   ]
  },
  {
   "cell_type": "code",
   "execution_count": null,
   "id": "800d3cd8",
   "metadata": {},
   "outputs": [],
   "source": []
  }
 ],
 "metadata": {
  "kernelspec": {
   "display_name": "Python 3 (ipykernel)",
   "language": "python",
   "name": "python3"
  },
  "language_info": {
   "codemirror_mode": {
    "name": "ipython",
    "version": 3
   },
   "file_extension": ".py",
   "mimetype": "text/x-python",
   "name": "python",
   "nbconvert_exporter": "python",
   "pygments_lexer": "ipython3",
   "version": "3.10.0"
  }
 },
 "nbformat": 4,
 "nbformat_minor": 5
}

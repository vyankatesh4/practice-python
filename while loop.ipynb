{
 "cells": [
  {
   "cell_type": "code",
   "execution_count": null,
   "id": "676d9389",
   "metadata": {},
   "outputs": [],
   "source": [
    "a = 0\n",
    "while a<=10:\n",
    "    print('in while value of a is:',a)\n",
    "    a = a+1\n",
    "    continue"
   ]
  },
  {
   "cell_type": "code",
   "execution_count": null,
   "id": "328fa707",
   "metadata": {},
   "outputs": [],
   "source": [
    "a = 0\n",
    "while true:\n",
    "    print('in while loop')\n",
    "    if a==1:\n",
    "        print('dont perform function')\n",
    "        a = a+1\n",
    "        continue\n",
    "    a = a+1\n",
    "    print('qwewerrty')"
   ]
  },
  {
   "cell_type": "code",
   "execution_count": null,
   "id": "113c25bb",
   "metadata": {},
   "outputs": [],
   "source": [
    "a=1500\n",
    "for i in range (1500, 2700):\n",
    "    if 7%==0 and 5%==0\n",
    "    print(i)"
   ]
  },
  {
   "cell_type": "code",
   "execution_count": null,
   "id": "2e7fc51f",
   "metadata": {},
   "outputs": [],
   "source": [
    "a=range(1500, 2700)\n",
    "\n",
    "if 7%== 0 and 5%== 0:\n",
    "    print ('a')"
   ]
  },
  {
   "cell_type": "code",
   "execution_count": null,
   "id": "017c5700",
   "metadata": {},
   "outputs": [],
   "source": []
  }
 ],
 "metadata": {
  "kernelspec": {
   "display_name": "Python 3 (ipykernel)",
   "language": "python",
   "name": "python3"
  },
  "language_info": {
   "codemirror_mode": {
    "name": "ipython",
    "version": 3
   },
   "file_extension": ".py",
   "mimetype": "text/x-python",
   "name": "python",
   "nbconvert_exporter": "python",
   "pygments_lexer": "ipython3",
   "version": "3.10.0"
  }
 },
 "nbformat": 4,
 "nbformat_minor": 5
}
